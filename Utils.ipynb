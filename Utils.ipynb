{
 "cells": [
  {
   "cell_type": "code",
   "execution_count": 1,
   "metadata": {
    "pycharm": {
     "name": "#%%\n"
    }
   },
   "outputs": [],
   "source": [
    "import cv2 as cv\n",
    "import os\n",
    "captura = cv.VideoCapture('./Data/Original/Video/HDL Viaje al futuro del skate con la primera tabla transparente y luminosa del mundo-KCqLQG8peYY.mp4')\n",
    "contador = 0\n",
    "dir_hr = './Data/Original/HR/'\n",
    "name_dir = 'Patin_360'\n",
    "\n",
    "while (captura.isOpened()):\n",
    "    ret, imagen = captura.read()\n",
    "    if ret == True:\n",
    "        # print(contador)\n",
    "        \n",
    "        if contador >= 400 and contador < 431:\n",
    "            cv.imwrite(f'{dir_hr}/{name_dir}/img_{contador-400}.png', imagen)\n",
    "        contador += 1\n",
    "        if contador > 431:\n",
    "             break\n",
    "\n",
    "    \n",
    "    else: break"
   ]
  },
  {
   "cell_type": "code",
   "execution_count": 2,
   "metadata": {
    "pycharm": {
     "name": "#%%\n"
    }
   },
   "outputs": [],
   "source": [
    "import cv2 as cv\n",
    "import os\n",
    "original_path = f'./Data/Original/HR/{name_dir}'\n",
    "list_element = list(os.scandir(original_path))\n",
    "\n",
    "for image in list_element:\n",
    "    im = cv.imread(image.path)\n",
    "    down_points = [im.shape[1]//4, im.shape[0]//4]\n",
    "    im = cv.resize(im, down_points, interpolation= cv.INTER_LINEAR)\n",
    "    im = cv.GaussianBlur(im,(0,0), 0.5)\n",
    "    cv.imwrite(image.path.replace('HR','LR'), im)\n",
    "    print(image.path.replace('HR','LR'))\n"
   ]
  },
  {
   "cell_type": "code",
   "execution_count": null,
   "metadata": {
    "pycharm": {
     "name": "#%%\n"
    }
   },
   "outputs": [],
   "source": [
    "import cv2 as cv\n",
    "import os\n",
    "original_path = f'./Data/Original/HR/{name_dir}'\n",
    "list_element = list(os.scandir(original_path))\n",
    "\n",
    "for image in list_element:\n",
    "    im = cv.imread(image.path)\n",
    "    down_points = [im.shape[1]//4, im.shape[0]//4]\n",
    "    im = cv.resize(im, down_points, interpolation= cv.INTER_LINEAR)\n",
    "    im = cv.GaussianBlur(im,(0,0), 0.5)\n",
    "    cv.imwrite(image.path.replace('HR','LR'), im)\n",
    "    print(image.path.replace('HR','LR'))\n"
   ]
  },
  {
   "cell_type": "code",
   "execution_count": null,
   "metadata": {
    "pycharm": {
     "name": "#%%\n"
    }
   },
   "outputs": [],
   "source": [
    "import cv2 as cv\n",
    "import numpy as np\n",
    "import os\n",
    "\n",
    "final_path = 'Data/Original/LR/city_ooscuro'\n",
    "final_path = final_path+\"/{name_image}\"\n",
    "\n",
    "\n",
    "lut = np.arange(256)\n",
    "a = 50\n",
    "b = 1\n",
    "lut = np.clip((lut-a)*b, 0, 256)\n",
    "# Execute our function on the cropped car plate image\n",
    "for image in os.scandir('Data/Original/LR/city'):\n",
    "    path = image.path\n",
    "    name = image.name\n",
    "    image = cv.imread(path)\n",
    "    image = cv.LUT(image, lut).astype('uint8')\n",
    "    cv.imwrite(final_path.format(name_image=name), image)"
   ]
  },
  {
   "cell_type": "code",
   "execution_count": null,
   "metadata": {
    "pycharm": {
     "name": "#%%\n"
    }
   },
   "outputs": [],
   "source": [
    "from matplotlib import pyplot as plt\n",
    "import cv2\n",
    "import numpy as np\n",
    "import os\n",
    "\n",
    "\n",
    "def lut_chart(image, lut):\n",
    "    \"\"\" Applies a LUT to an image and shows the result.\n",
    "    Args:\n",
    "    image: Input image to be modified.\n",
    "    lut: a 256 elements array representing a LUT, where\n",
    "    indices index input values, and their content the\n",
    "    output ones.\n",
    "    \"\"\"\n",
    "    \n",
    "    # Apply LUT\n",
    "    im_lut = cv2.LUT(image, lut)\n",
    "    # Show the initial image\n",
    "    plt.figure(1)\n",
    "    plt.subplot(2,2,1)\n",
    "    plt.title('Original image')\n",
    "    plt.imshow(image)\n",
    "    # Show the resultant one\n",
    "    plt.subplot(2,2,2)\n",
    "    plt.imshow(im_lut)\n",
    "    plt.title('LUT applied')\n",
    "    # Plot the used LUT\n",
    "    plt.subplot(2,2,3)\n",
    "    plt.title('LUT')\n",
    "    plt.plot(lut) # Hint: np.arange() can be useful as first argument to this function\n",
    "    # And finally, the resultant histogram\n",
    "    plt.subplot(2,2,4)\n",
    "    plt.hist(im_lut.ravel(),256,[0,256])\n",
    "    plt.title('Histogram')\n",
    "    plt.tight_layout()\n",
    "    plt.savefig('Images_procesada.png', dpi=1000)\n",
    "    # plt.show()\n",
    "    \n",
    "lut = np.arange(256)\n",
    "a = 50\n",
    "b = 1\n",
    "lut = np.clip((lut-a)*b, 0, 256)\n",
    "image = cv2.imread('Data/Original/HR/city/0001.png')\n",
    "lut_chart(image, lut)\n"
   ]
  },
  {
   "cell_type": "code",
   "execution_count": null,
   "metadata": {
    "pycharm": {
     "name": "#%%\n"
    }
   },
   "outputs": [],
   "source": []
  },
  {
   "cell_type": "code",
   "execution_count": null,
   "metadata": {
    "pycharm": {
     "name": "#%%\n"
    }
   },
   "outputs": [],
   "source": []
  },
  {
   "cell_type": "code",
   "execution_count": null,
   "metadata": {
    "pycharm": {
     "name": "#%%\n"
    }
   },
   "outputs": [],
   "source": [
    "# from TecoGAN.runGan import mycall\n",
    "# cmd1 = [\"python3\", \"TecoGAN/main.py\",\n",
    "#                     \"--cudaID\", \"0\",  # set the cudaID here to use only one GPU\n",
    "#                     \"--output_dir\", './Data/Final/Control/Net/test_2',  # Set the place to put the results.\n",
    "#                     \"--summary_dir\", './basura' + '/',  # Set the place to put the log.\n",
    "#                     \"--mode\", \"inference\",\n",
    "#                     \"--input_dir_LR\", './Data/Original/LR/Test_2',  # the LR directory\n",
    "#                     # \"--input_dir_HR\", os.path.join(\"./HR/\", testpre[nn]),  # the HR directory\n",
    "#                     # one of (input_dir_HR,input_dir_LR) should be given\n",
    "#                     # \"--output_pre\", sample_dir,  # the subfolder to save current scene, optional\n",
    "#                     \"--num_resblock\", \"16\",  # our model has 16 residual blocks,\n",
    "#                     # the pre-trained FRVSR and TecoGAN mini have 10 residual blocks\n",
    "#                     \"--checkpoint\", 'TecoGAN/model/TecoGAN',  # the path of the trained model,\n",
    "#                     \"--output_ext\", \"png\"  # png is more accurate, jpg is smaller\n",
    "#                     ]\n",
    "# mycall(cmd1).communicate()"
   ]
  },
  {
   "cell_type": "code",
   "execution_count": null,
   "metadata": {
    "pycharm": {
     "name": "#%%\n"
    }
   },
   "outputs": [],
   "source": [
    "import os\n",
    "from tkinter import N\n",
    "import pandas as pd\n",
    "import re\n",
    "\n",
    "not_inclide_dir = ['Table']\n",
    "\n",
    "dir_root = 'Data/Samples'\n",
    "list_dir = list(filter(lambda x: not x.name in not_inclide_dir, list(os.scandir(dir_root))))\n",
    "df_measures = pd.DataFrame(columns=['Name','PSNR_00', 'SSIM_00', 'LPIPS_00', 'tOF_00', 'tLP100_00'])\n",
    "df_time_net = pd.DataFrame(columns=['Name'])\n",
    "df_time_posporces = pd.DataFrame(columns=['Name'])\n",
    "df_num_images_bloc = pd.DataFrame(columns=['Name']) \n",
    "\n",
    "for file in list_dir:\n",
    "    name = file.name\n",
    "    sample_path = os.path.join(file.path, 'Measures')\n",
    "    sample = os.scandir(sample_path)\n",
    "\n",
    "    print(file.name)\n",
    "\n",
    "    for measure in sample:\n",
    "        if measure.is_dir():\n",
    "            index_sample = re.match('.*\\(([0-9]+)\\)', measure.name).group(1)\n",
    "            measure_path = os.path.join(measure.path, 'metrics.csv')\n",
    "            df = pd.read_csv(measure_path).drop(columns='Unnamed: 0')\n",
    "            df = df.loc[df.shape[0]-5]\n",
    "            df['Name'] = name + '__' + index_sample\n",
    "            df_measures = df_measures.append(df)\n",
    "# ========== Time net =========\n",
    "    timeNet = os.path.join(sample_path, 'Time_net.csv')\n",
    "    df = pd.read_csv(timeNet, index_col=False)\n",
    "    df.columns = ['Name','Time_unapply']\n",
    "    df['Name'] = df['Name'].apply(lambda x: f'Sample_{x}')\n",
    "    df.index = df['Name']\n",
    "    df = df.drop(columns='Name').T\n",
    "    df['Name'] = name\n",
    "    df_time_net = df_time_net.append(df,ignore_index=True)\n",
    "# ======== Time posproeces ==========\n",
    "    time_un_apply = os.path.join(sample_path, 'Time_un_apply.csv')\n",
    "    df = pd.read_csv(time_un_apply, index_col=False).drop(columns='Unnamed: 0')\n",
    "    df['Bolock_id'] = df['Bolock_id'].apply(lambda x: f'Bolock_id_{x}')\n",
    "    df.index = df['Bolock_id']\n",
    "    df = df.drop(columns='Bolock_id').T\n",
    "    df['Name'] = name\n",
    "    aux_df = df[df.index == 'Time']\n",
    "    df_time_posporces = df_time_posporces.append(aux_df,ignore_index=True)\n",
    "# ======== Sample posporces ==========\n",
    "    aux_df = df[df.index == 'Num_images']\n",
    "    df_num_images_bloc = df_num_images_bloc.append(aux_df,ignore_index=True)\n",
    "\n",
    "\n",
    "df_measures.to_csv('Data/Samples/Table/measures.csv', sep=';', decimal=',')\n",
    "df_time_net.to_csv('Data/Samples/Table/time_net.csv', sep=';', decimal=',')\n",
    "df_time_posporces.to_csv('Data/Samples/Table/time_posporces.csv', sep=';', decimal=',')\n",
    "df_num_images_bloc.to_csv('Data/Samples/Table/num_images_bloc.csv', sep=';', decimal=',')"
   ]
  },
  {
   "cell_type": "code",
   "execution_count": null,
   "metadata": {
    "pycharm": {
     "name": "#%%\n"
    }
   },
   "outputs": [],
   "source": [
    "import pandas as pd\n",
    "\n",
    "df = pd.read_csv('Data/Samples/Table/measures.csv', sep=';', decimal=',').drop(columns=['Unnamed: 0'])\n",
    "df.index = df.Name\n",
    "df = df.drop(columns=['Name'])\n",
    "df = df.T\n",
    "\n",
    "df_City = df.filter(regex=('City_Test.*_10'))\n",
    "df_Patin = df.filter(regex=('Patin_Test.*_10'))\n",
    "df_city_oscuro = df.filter(regex=('city_oscuro_Test.*_10'))\n",
    "df_Patin_360 = df.filter(regex=('Patin_360_Test.*_10'))\n",
    "\n",
    "sample_columns = [f'Sample_{y}__{x}' for y in ['control', 'RSS_2_1_10', 'RSS_RS_2_1'] for x in range(1, 11)]\n",
    "df_City.columns = sample_columns\n",
    "df_Patin.columns = sample_columns\n",
    "df_city_oscuro.columns = sample_columns\n",
    "df_Patin_360.columns = sample_columns\n",
    "\n",
    "df_City.index = list(map(lambda x: f'{x[:-3]}_citi', df_City.index.to_list()))\n",
    "df_Patin.index = list(map(lambda x: f'{x[:-3]}_patin', df_Patin.index.to_list()))\n",
    "df_city_oscuro.index = list(map(lambda x: f'{x[:-3]}_citiOscuro', df_city_oscuro.index.to_list()))\n",
    "df_Patin_360.index = list(map(lambda x: f'{x[:-3]}_patin360', df_Patin_360.index.to_list()))\n",
    "\n",
    "from sklearn.preprocessing import MinMaxScaler\n",
    "import numpy as np\n",
    "\n",
    "def Normalices(table):\n",
    "    df_copi = table.T\n",
    "    df_copi.index = list(map(lambda x: f'{x}_Norma', df_copi.index.to_list()))\n",
    "    for column in df_copi.columns.to_list():\n",
    "        df_aux = pd.to_numeric(df_copi[column])\n",
    "        new_values=[]\n",
    "        for x in range(10, 40, 10):\n",
    "            new_values += (list((MinMaxScaler().fit_transform(df_aux.iloc[x-10:x].values.reshape(-1,1))).flat))\n",
    "        df_copi[column] = new_values\n",
    "        df_copi[column]=df_copi[column]\n",
    "    return df_copi.T\n",
    "\n",
    "\n",
    "\n",
    "df_City = Normalices(df_City)\n",
    "df_Patin = Normalices(df_Patin)\n",
    "df_city_oscuro = Normalices(df_city_oscuro)\n",
    "df_Patin_360 = Normalices(df_Patin_360)\n",
    "\n",
    "df_aux = df_City\n",
    "df_aux = df_aux.append(df_Patin)\n",
    "df_aux = df_aux.append(df_city_oscuro)\n",
    "df_aux = df_aux.append(df_Patin_360)\n",
    "\n",
    "df_aux.sort_index(inplace=True)\n",
    "\n",
    "df_aux.T.to_csv('Data/Samples/Table/Measures_Norma_10.csv', sep=';', decimal=',')"
   ]
  }
 ],
 "metadata": {
  "kernelspec": {
   "display_name": "Python 3 (ipykernel)",
   "language": "python",
   "name": "python3"
  },
  "language_info": {
   "codemirror_mode": {
    "name": "ipython",
    "version": 3
   },
   "file_extension": ".py",
   "mimetype": "text/x-python",
   "name": "python",
   "nbconvert_exporter": "python",
   "pygments_lexer": "ipython3",
   "version": "3.7.11"
  },
  "vscode": {
   "interpreter": {
    "hash": "1393266a224f06aa401a56d8774f84036fce7c6b1529798eba2dddbbb9835b60"
   }
  }
 },
 "nbformat": 4,
 "nbformat_minor": 1
}